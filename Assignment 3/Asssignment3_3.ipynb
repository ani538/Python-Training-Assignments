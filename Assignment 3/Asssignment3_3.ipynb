{
 "cells": [
  {
   "cell_type": "code",
   "execution_count": 1,
   "metadata": {},
   "outputs": [],
   "source": [
    "# Question 3\n",
    "# Write a Python program to create a class representing a shopping cart. \n",
    "# Include methods for adding and removing items, and calculating the total price."
   ]
  },
  {
   "cell_type": "code",
   "execution_count": 2,
   "metadata": {},
   "outputs": [],
   "source": [
    "class ShoppingCart:\n",
    "  def __init__(self):\n",
    "    self.item = []\n",
    "    self.price = []\n",
    "\n",
    "\n",
    "  def add_items(self,items,prices):\n",
    "    self.item.append(items)\n",
    "    self.price.append(prices)\n",
    "\n",
    "  def remove_items(self,items):\n",
    "    if items in self.item:\n",
    "      item_index = self.item.index(items)\n",
    "      self.item.remove(items)\n",
    "      del self.price[item_index]\n",
    "\n",
    "\n",
    "  def total_price(self):\n",
    "    total_price = sum(self.price)\n",
    "    return total_price\n"
   ]
  },
  {
   "cell_type": "code",
   "execution_count": 3,
   "metadata": {},
   "outputs": [
    {
     "name": "stdout",
     "output_type": "stream",
     "text": [
      "50\n"
     ]
    }
   ],
   "source": [
    "cart = ShoppingCart()\n",
    "cart.add_items('apple',100)\n",
    "cart.add_items('banana',50)\n",
    "cart.remove_items('apple')\n",
    "print(cart.total_price())"
   ]
  }
 ],
 "metadata": {
  "kernelspec": {
   "display_name": "Python 3",
   "language": "python",
   "name": "python3"
  },
  "language_info": {
   "codemirror_mode": {
    "name": "ipython",
    "version": 3
   },
   "file_extension": ".py",
   "mimetype": "text/x-python",
   "name": "python",
   "nbconvert_exporter": "python",
   "pygments_lexer": "ipython3",
   "version": "3.9.6"
  }
 },
 "nbformat": 4,
 "nbformat_minor": 2
}
