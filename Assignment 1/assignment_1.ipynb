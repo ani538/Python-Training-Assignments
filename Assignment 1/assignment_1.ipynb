{
 "cells": [
  {
   "cell_type": "markdown",
   "metadata": {},
   "source": [
    "# Assignment No 1"
   ]
  },
  {
   "cell_type": "markdown",
   "metadata": {},
   "source": [
    "1. What is the output of the following code?  \n",
    "nums = set([1,1,2,3,3,3,4,4])  \n",
    "print(len(nums))   \n",
    "\n",
    "Ans - 4"
   ]
  },
  {
   "cell_type": "markdown",
   "metadata": {},
   "source": [
    "\n",
    "2.  What will be the output? d = {\"john\":40, \"peter\":45} print(list(d.keys()))\n",
    "Ans - ['john', 'peter']"
   ]
  },
  {
   "cell_type": "code",
   "execution_count": 2,
   "metadata": {},
   "outputs": [
    {
     "name": "stdout",
     "output_type": "stream",
     "text": [
      "'pass@123' is an invalid password.\n"
     ]
    }
   ],
   "source": [
    "# 3. A website requires a user to input username and password to register. Write a program to check the validity of password given by user. Following are the criteria for checking password:   \n",
    "# a)\tAt least 1 letter between [a-z] \n",
    "# b)\tAt least 1 number between [0-9]  \n",
    "# c)\tAt least 1 letter between [A-Z] \n",
    "# d)\tAt least 1 character from [$#@] \n",
    "# e)\tMinimum length of transaction password: 6  \n",
    "# f)\tMaximum length of transaction password: 12 \n",
    "\n",
    "# Ans - \n",
    "import re\n",
    "\n",
    "def is_valid_password(password):\n",
    "    if len(password)<6 or len(password)<12:\n",
    "        return False\n",
    "\n",
    "    if not re.search(r\"[a-z]\",password):\n",
    "        return False\n",
    "\n",
    "    if not re.search(r\"[A-Z]\", password):\n",
    "        return False\n",
    "\n",
    "    if not re.search(r\"0-9\", password):\n",
    "        return False\n",
    "\n",
    "    if not re.search(r\"[$#@]\", password):\n",
    "        return False\n",
    "\n",
    "    else:\n",
    "        return True\n",
    "\n",
    "password = input(\"Enter a password: \")\n",
    "\n",
    "if is_valid_password(password):\n",
    "    print(f\"'{password}' is a valid password.\")\n",
    "else:\n",
    "    print(f\"'{password}' is an invalid password.\")"
   ]
  },
  {
   "cell_type": "code",
   "execution_count": 3,
   "metadata": {},
   "outputs": [
    {
     "name": "stdout",
     "output_type": "stream",
     "text": [
      "elements at position 0 is 4\n",
      "elements at position 1 is 7\n",
      "elements at position 2 is 3\n",
      "elements at position 3 is 2\n",
      "elements at position 4 is 5\n",
      "elements at position 5 is 9\n"
     ]
    }
   ],
   "source": [
    "# 4. Write a for loop that prints all elements of a list and their position in the list.      \n",
    "#   a = [4,7,3,2,5,9]  \n",
    "# Ans - \n",
    "\n",
    "a = [4,7,3,2,5,9]\n",
    "\n",
    "for index, value in enumerate(a):\n",
    " print (f\"elements at position {index} is {value}\")"
   ]
  },
  {
   "cell_type": "code",
   "execution_count": 1,
   "metadata": {},
   "outputs": [
    {
     "name": "stdout",
     "output_type": "stream",
     "text": [
      "Helloworld\n"
     ]
    }
   ],
   "source": [
    "# 5.  Please write a program which accepts a string from console and print the characters that have even indexes. \n",
    "# Example: If the following string is given as input to the program: H1e2l3l4o5w6o7r8l9d \n",
    "# Then, the output of the program should be: Helloworld \n",
    "# Ans - \n",
    "\n",
    "user_input = input(\"Enter a input:\")\n",
    "\n",
    "even_index_characters = user_input[::2]\n",
    "print(even_index_characters)"
   ]
  },
  {
   "cell_type": "code",
   "execution_count": 2,
   "metadata": {},
   "outputs": [
    {
     "name": "stdout",
     "output_type": "stream",
     "text": [
      "Reversed string: ris etov ot esir\n"
     ]
    }
   ],
   "source": [
    "# 6. Please write a program which accepts a string from console and print it in reverse order.\n",
    "\n",
    "#  Example: If the following string is given as input to the program:  rise to vote sir \n",
    "# # Then, the output of the program should be: ris etov ot esir\n",
    "\n",
    "input_string = input(\"Enter a string: \")\n",
    "reversed_string = input_string[::-1]\n",
    "print(\"Reversed string:\", reversed_string)"
   ]
  },
  {
   "cell_type": "code",
   "execution_count": 3,
   "metadata": {},
   "outputs": [
    {
     "name": "stdout",
     "output_type": "stream",
     "text": [
      "the'a'have the count of '2'\n",
      "the'b'have the count of '2'\n",
      "the'c'have the count of '2'\n",
      "the'd'have the count of '1'\n",
      "the'e'have the count of '1'\n",
      "the'f'have the count of '1'\n",
      "the'g'have the count of '1'\n"
     ]
    }
   ],
   "source": [
    "# 7. Please write a program which count and print the numbers of each character in a string input by console. \n",
    "# Example: If the following string is given as input to the program: abcdefgabc \n",
    "# Then, the output of the program should be: \n",
    "# a,2\n",
    "# c,2\n",
    "# b,2\n",
    "# e,1\n",
    "# d,1\n",
    "# g,1\n",
    "# f,1\n",
    "\n",
    "input_string  = \"abcdefgabc\"\n",
    "\n",
    "char_count = {}\n",
    "\n",
    "for char in input_string:\n",
    "    if char in char_count:\n",
    "        char_count[char]+=1\n",
    "    else:\n",
    "        char_count[char] = 1\n",
    "\n",
    "for char,count in char_count.items():\n",
    "    print(f\"the'{char}'have the count of '{count}'\")\n"
   ]
  },
  {
   "cell_type": "code",
   "execution_count": 5,
   "metadata": {},
   "outputs": [
    {
     "name": "stdout",
     "output_type": "stream",
     "text": [
      "[35]\n"
     ]
    }
   ],
   "source": [
    "# 8. With two given lists [1,3,6,78,35,55] and [12,24,35,24,88,120,155], write a program to make a list whose elements are intersection of the above given lists. \n",
    "\n",
    "a= [1,3,6,78,35,55]\n",
    "b = [12,24,35,24,88,120,155]\n",
    "intersecion = list(set(a)& set(b))\n",
    "print(intersecion)"
   ]
  },
  {
   "cell_type": "code",
   "execution_count": 6,
   "metadata": {},
   "outputs": [
    {
     "name": "stdout",
     "output_type": "stream",
     "text": [
      "[12, 24, 35, 88, 120, 155]\n"
     ]
    }
   ],
   "source": [
    "# 9. With a given list [12,24,35,24,88,120,155,88,120,155], write a program to print this list after removing all duplicate values with original order reserved. \n",
    "\n",
    "list = [12,24,35,24,88,120,155,88,120,155]\n",
    "l = set(list)\n",
    "sorted_list = sorted(l)\n",
    "print(sorted_list)"
   ]
  },
  {
   "cell_type": "code",
   "execution_count": 7,
   "metadata": {},
   "outputs": [
    {
     "name": "stdout",
     "output_type": "stream",
     "text": [
      "[12, 35, 88, 120, 155]\n"
     ]
    }
   ],
   "source": [
    "# 10.  By using list comprehension, please write a program to print the list after removing the value 24 in [12,24,35,24,88,120,155]. \n",
    "\n",
    "list1 = [12,24,35,24,88,120,155]\n",
    "l = [i for i in list1 if i!=24]\n",
    "print(l)\n"
   ]
  },
  {
   "cell_type": "code",
   "execution_count": 8,
   "metadata": {},
   "outputs": [
    {
     "name": "stdout",
     "output_type": "stream",
     "text": [
      "[24, 35, 70, 155]\n"
     ]
    }
   ],
   "source": [
    "# 11.  By using list comprehension, please write a program to print the list after removing the 0th,4th,5th numbers in [12,24,35,70,88,120,155]. \n",
    "\n",
    "a = [12,24,35,70,88,120,155]\n",
    "output = [item for index , item in enumerate(a) if index not in(0,4,5)]\n",
    "\n",
    "print(output)"
   ]
  },
  {
   "cell_type": "code",
   "execution_count": 9,
   "metadata": {},
   "outputs": [
    {
     "name": "stdout",
     "output_type": "stream",
     "text": [
      "[12, 24, 88, 120, 155]\n"
     ]
    }
   ],
   "source": [
    "# 12. . By using list comprehension, please write a program to print the list after removing delete numbers which are divisible by 5 and 7 in [12,24,35,70,88,120,155]. \n",
    "\n",
    "\n",
    "input = [12,24,35,70,88,120,155]\n",
    "output = [i for i in input if not (i%5==0 and i%7==0)]\n",
    "print(output)"
   ]
  },
  {
   "cell_type": "code",
   "execution_count": 10,
   "metadata": {},
   "outputs": [
    {
     "name": "stdout",
     "output_type": "stream",
     "text": [
      "[770, 560, 105, 280, 35]\n"
     ]
    }
   ],
   "source": [
    "# 13. Please write a program to randomly generate a list with 5 numbers, which are divisible by 5 and 7 , between 1 and 1000 inclusive. \n",
    "\n",
    "import random\n",
    "num = [i for i in range(1,1001) if (i%5==0 and i%7==0)]\n",
    "random_num = random.sample(num,5)\n",
    "\n",
    "print(random_num)"
   ]
  },
  {
   "cell_type": "code",
   "execution_count": 11,
   "metadata": {},
   "outputs": [
    {
     "name": "stdout",
     "output_type": "stream",
     "text": [
      "The result is: 3.55\n"
     ]
    }
   ],
   "source": [
    "# 14. Write a program to compute 1/2+2/3+3/4+...+n/n+1 with a given n input by console (n>0). \n",
    "\n",
    "# Example: If the following n is given as input to the program: 5 \n",
    "# Then, the output of the program should be: 3.55  \n",
    "\n",
    "n = 5\n",
    "\n",
    "if n <= 0:\n",
    "    print(\"n must be greater than 0\")\n",
    "else:\n",
    "\n",
    "    total = sum(i / (i + 1) for i in range(1, n + 1))\n",
    "\n",
    "    print(f\"The result is: {total:.2f}\")"
   ]
  },
  {
   "cell_type": "code",
   "execution_count": 5,
   "metadata": {},
   "outputs": [
    {
     "data": {
      "text/plain": [
       "-1"
      ]
     },
     "execution_count": 5,
     "metadata": {},
     "output_type": "execute_result"
    }
   ],
   "source": [
    "1+-2"
   ]
  },
  {
   "cell_type": "code",
   "execution_count": 3,
   "metadata": {},
   "outputs": [
    {
     "name": "stdout",
     "output_type": "stream",
     "text": [
      "1\n"
     ]
    }
   ],
   "source": [
    "i=0\n",
    "while i !=0 :\n",
    "      i = i-1\n",
    "else :\n",
    "     i = i+1\n",
    "\n",
    "print(i)"
   ]
  }
 ],
 "metadata": {
  "kernelspec": {
   "display_name": "Python 3",
   "language": "python",
   "name": "python3"
  },
  "language_info": {
   "codemirror_mode": {
    "name": "ipython",
    "version": 3
   },
   "file_extension": ".py",
   "mimetype": "text/x-python",
   "name": "python",
   "nbconvert_exporter": "python",
   "pygments_lexer": "ipython3",
   "version": "3.12.0"
  }
 },
 "nbformat": 4,
 "nbformat_minor": 2
}
