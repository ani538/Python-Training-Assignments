{
 "cells": [
  {
   "cell_type": "code",
   "execution_count": 1,
   "metadata": {},
   "outputs": [],
   "source": [
    "# Question 1\n",
    "# Write a Python program to create a class representing a stack data structure. \n",
    "# Include methods for pushing and popping elements."
   ]
  },
  {
   "cell_type": "code",
   "execution_count": 2,
   "metadata": {},
   "outputs": [
    {
     "name": "stdout",
     "output_type": "stream",
     "text": [
      "[12, 23]\n",
      "[12]\n"
     ]
    }
   ],
   "source": [
    "class Stack:\n",
    "  def __init__(self,limit=5):\n",
    "    self.element = []\n",
    "    self.limit = limit\n",
    "\n",
    "  def push(self,element):\n",
    "    if len(self.element)<self.limit:\n",
    "      self.element.append(element)\n",
    "    else:\n",
    "      print(\"Elements can't be pushed in Stack\")\n",
    "\n",
    "  def pop(self):\n",
    "    if len(self.element)>0:\n",
    "      return self.element.pop()\n",
    "    else:\n",
    "      print(\"Elements can't be popped from Stack\")\n",
    "\n",
    "\n",
    "obj = Stack()\n",
    "obj.push(12)\n",
    "obj.push(23)\n",
    "print(obj.element)\n",
    "obj.pop()\n",
    "print(obj.element)"
   ]
  }
 ],
 "metadata": {
  "kernelspec": {
   "display_name": "Python 3",
   "language": "python",
   "name": "python3"
  },
  "language_info": {
   "name": "python",
   "version": "3.9.6"
  }
 },
 "nbformat": 4,
 "nbformat_minor": 2
}
