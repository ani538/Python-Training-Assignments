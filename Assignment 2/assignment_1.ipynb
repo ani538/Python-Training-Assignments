{
 "cells": [
  {
   "cell_type": "markdown",
   "metadata": {},
   "source": [
    "Assignment 2\n",
    "\n",
    "Domain – Telecom \n",
    "\n",
    "focus – Optimization \n",
    "\n",
    "Business challenge/requirement \n",
    "LifeTel Telecom is the latest entrant in the highly competitive Telecom market of Singapore.  It issues SIM to the verified users.  Till now verification was manual through the photocopy of approved id card document. However, government has recently introduced Social ID called Reference ID which is mapped to fingerprint of user. LifeTel should now verify user against the fingerprint and Reference ID \n",
    "\n",
    "Key issues\n",
    "Build a system where when user enters Reference ID it is encrypted, so that hackers cannot view the mapping of Reference ID and finger print Considerations System should be secure \n",
    "\n",
    "Considerations - System should be secure \n",
    "Data volume - NA \n",
    "Additional information - NA \n",
    "\n",
    "Business benefits \n",
    "Company will be able to quickly issue SIM to user and expected gain in volume is approximately 10 times as the manual process of verification is replaced with secure automated system \n",
    "\n",
    "Approach to Solve \n",
    "1. Read the input from command line – Reference ID \n",
    "2. Check for validity – it should be 12 digits and allows on number and alphabet\n",
    "3. Encrypt the Reference ID and print it for reference "
   ]
  },
  {
   "cell_type": "code",
   "execution_count": 1,
   "metadata": {},
   "outputs": [],
   "source": [
    "import base64\n",
    "import re\n",
    "\n",
    "# Check reference id is valid or not\n",
    "def isValid(reference_id):\n",
    "    if len(reference_id)!=12:\n",
    "        return False\n",
    "\n",
    "    # Check if the reference_id contains only alphanumeric characters\n",
    "    return bool(re.match(\"^[a-zA-Z0-9]+$\", reference_id))\n",
    "\n",
    "# Encrypt the reference id\n",
    "def encrypt_refid(ref_id):\n",
    "    encode= base64.b64encode(ref_id.encode(\"utf-8\"))\n",
    "    encode_str = str(encode,\"utf-8\")\n",
    "    return encode_str"
   ]
  },
  {
   "cell_type": "code",
   "execution_count": 3,
   "metadata": {},
   "outputs": [
    {
     "name": "stdout",
     "output_type": "stream",
     "text": [
      "Encrypted ref id : YXNubXBvaXV5dDEy\n"
     ]
    }
   ],
   "source": [
    "reference_id = input(\"Enter your reference ID:\")\n",
    "\n",
    "# Check is reference id valid or not \n",
    "# If True : valid Encrypt it and print encrypted id\n",
    "# IF False : print not Valid\n",
    "\n",
    "if isValid(reference_id):\n",
    "    encrypt_id = encrypt_refid(reference_id)\n",
    "    print(f\"Encrypted ref id : {encrypt_id}\")\n",
    "else:\n",
    "    print(\"Invalid refer ID, it should be 12 char long with both numbers and alpha.\")"
   ]
  }
 ],
 "metadata": {
  "kernelspec": {
   "display_name": "Python 3",
   "language": "python",
   "name": "python3"
  },
  "language_info": {
   "codemirror_mode": {
    "name": "ipython",
    "version": 3
   },
   "file_extension": ".py",
   "mimetype": "text/x-python",
   "name": "python",
   "nbconvert_exporter": "python",
   "pygments_lexer": "ipython3",
   "version": "3.12.0"
  }
 },
 "nbformat": 4,
 "nbformat_minor": 2
}
