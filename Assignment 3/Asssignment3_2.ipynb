{
 "cells": [
  {
   "cell_type": "code",
   "execution_count": null,
   "metadata": {},
   "outputs": [],
   "source": [
    "# Question 2\n",
    "# Write a Python program to create a class representing a linked list data structure. \n",
    "# Include methods for displaying linked list data, inserting and deleting nodes."
   ]
  },
  {
   "cell_type": "code",
   "execution_count": null,
   "metadata": {},
   "outputs": [],
   "source": [
    "class LinkedList:\n",
    "  def __init__(self, data=None):\n",
    "    self.data = data\n",
    "    self.next = None\n",
    "\n",
    "  def display(self):\n",
    "    temp = self\n",
    "    while temp:\n",
    "      print(temp.data, end=\" \")\n",
    "      temp = temp.next\n",
    "\n",
    "  def insert_at_beginning(self, new_data):\n",
    "    new_node = LinkedList(new_data)\n",
    "    new_node.next = self\n",
    "    return new_node\n",
    "\n",
    "  def insert_after(self, prev_node, new_data):\n",
    "    if prev_node is None:\n",
    "      print(\"The given previous node must inLinkedList.\")\n",
    "      return\n",
    "    new_node = LinkedList(new_data)\n",
    "    new_node.next = prev_node.next\n",
    "    prev_node.next = new_node\n",
    "\n",
    "  def insert_at_end(self, new_data):\n",
    "    new_node = LinkedList(new_data)\n",
    "    if self.data is None:\n",
    "      self.data = new_data\n",
    "      return\n",
    "    last_node = self\n",
    "    while last_node.next:\n",
    "      last_node = last_node.next\n",
    "    last_node.next = new_node\n",
    "\n",
    "  def delete_node(self, key):\n",
    "    if self.data == key:\n",
    "      if self.next:\n",
    "        self.data = self.next.data\n",
    "        self.next = self.next.next\n",
    "      else:\n",
    "        self.data = None\n",
    "      return\n",
    "\n",
    "    temp = self\n",
    "    while temp.next:\n",
    "      if temp.next.data == key:\n",
    "        temp.next = temp.next.next\n",
    "        return\n",
    "      temp = temp.next\n"
   ]
  },
  {
   "cell_type": "code",
   "execution_count": null,
   "metadata": {},
   "outputs": [],
   "source": [
    "llist = LinkedList(8)\n",
    "llist = llist.insert_at_beginning(9)\n",
    "llist = llist.insert_at_beginning(6)\n",
    "llist.insert_at_end(10)\n",
    "llist.insert_after(llist.next, 5)\n",
    "print(\"Linked list:\")\n",
    "llist.display()\n",
    "print(\"\\nAfter deleting an element:\")\n",
    "llist.delete_node(8)\n",
    "llist.display()"
   ]
  },
  {
   "cell_type": "code",
   "execution_count": null,
   "metadata": {},
   "outputs": [],
   "source": []
  }
 ],
 "metadata": {
  "language_info": {
   "name": "python"
  }
 },
 "nbformat": 4,
 "nbformat_minor": 2
}
